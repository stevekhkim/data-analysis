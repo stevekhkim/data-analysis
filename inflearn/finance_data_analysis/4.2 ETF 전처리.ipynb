{
 "cells": [
  {
   "cell_type": "markdown",
   "metadata": {
    "id": "t3V7lAmnBYko"
   },
   "source": [
    "[![Open In Colab](https://colab.research.google.com/assets/colab-badge.svg)](https://colab.research.google.com/github/corazzon/finance-data-analysis/blob/main/4.2%20ETF%20%EC%A0%84%EC%B2%98%EB%A6%AC-input.ipynb)\n",
    "\n",
    "* [ETF : 네이버 금융](https://finance.naver.com/sise/etf.nhn) 에서 수집한 데이터를 전처리 합니다.\n",
    "* keyword\n",
    "    * rename column\n",
    "    * .map(lambda x : x)\n",
    "    * text data\n",
    "        * str.contains()\n",
    "        * str.replace()\n",
    "        * str.split(\"구분자\", expand=True)\n",
    "        * str[:]\n",
    "\n",
    "## 데이터 로드와 요약"
   ]
  },
  {
   "cell_type": "code",
   "execution_count": 1,
   "metadata": {
    "id": "sUwAAMjsBYko"
   },
   "outputs": [],
   "source": [
    "# 데이터 분석을 위한 pandas, 수치계산을 위한 numpy라이브러리를 로드합니다.\n",
    "import pandas as pd\n",
    "import numpy as np"
   ]
  },
  {
   "cell_type": "code",
   "execution_count": 73,
   "metadata": {},
   "outputs": [
    {
     "data": {
      "text/plain": [
       "'eft_20211017_raw.csv'"
      ]
     },
     "execution_count": 73,
     "metadata": {},
     "output_type": "execute_result"
    }
   ],
   "source": [
    "# 이전 실습에서 저장한 파일명을 file_name에 적어주세요.\n",
    "file_name = \"eft_20211017_raw.csv\"\n",
    "file_name"
   ]
  },
  {
   "cell_type": "code",
   "execution_count": 13,
   "metadata": {
    "id": "cyivYjVFBYkp"
   },
   "outputs": [
    {
     "data": {
      "text/plain": [
       "(512, 12)"
      ]
     },
     "execution_count": 13,
     "metadata": {},
     "output_type": "execute_result"
    }
   ],
   "source": [
    "# 이전 수업에서 수집해서 저장해둔 csv 파일을 읽어옵니다.\n",
    "# itemcode 숫자 앞의 0 이 지워진다면 dtype={\"itemcode\": np.object} 로 타입을 지정해 주면 문자형태로 읽어옵니다.\n",
    "# df\n",
    "df = pd.read_csv('etf_20211017_raw.csv', dtype={\"itemcode\":np.object})\n",
    "df.shape"
   ]
  },
  {
   "cell_type": "code",
   "execution_count": 6,
   "metadata": {
    "id": "VgCji4_wBYkp"
   },
   "outputs": [
    {
     "data": {
      "text/html": [
       "<div>\n",
       "<style scoped>\n",
       "    .dataframe tbody tr th:only-of-type {\n",
       "        vertical-align: middle;\n",
       "    }\n",
       "\n",
       "    .dataframe tbody tr th {\n",
       "        vertical-align: top;\n",
       "    }\n",
       "\n",
       "    .dataframe thead th {\n",
       "        text-align: right;\n",
       "    }\n",
       "</style>\n",
       "<table border=\"1\" class=\"dataframe\">\n",
       "  <thead>\n",
       "    <tr style=\"text-align: right;\">\n",
       "      <th></th>\n",
       "      <th>itemcode</th>\n",
       "      <th>etfTabCode</th>\n",
       "      <th>itemname</th>\n",
       "      <th>nowVal</th>\n",
       "      <th>risefall</th>\n",
       "      <th>changeVal</th>\n",
       "      <th>changeRate</th>\n",
       "      <th>nav</th>\n",
       "      <th>threeMonthEarnRate</th>\n",
       "      <th>quant</th>\n",
       "      <th>amonut</th>\n",
       "      <th>marketSum</th>\n",
       "    </tr>\n",
       "  </thead>\n",
       "  <tbody>\n",
       "    <tr>\n",
       "      <th>0</th>\n",
       "      <td>069500</td>\n",
       "      <td>1</td>\n",
       "      <td>KODEX 200</td>\n",
       "      <td>39420</td>\n",
       "      <td>2</td>\n",
       "      <td>400</td>\n",
       "      <td>1.03</td>\n",
       "      <td>39436.0</td>\n",
       "      <td>-9.6680</td>\n",
       "      <td>2570170</td>\n",
       "      <td>101274</td>\n",
       "      <td>48270</td>\n",
       "    </tr>\n",
       "    <tr>\n",
       "      <th>1</th>\n",
       "      <td>371460</td>\n",
       "      <td>4</td>\n",
       "      <td>TIGER 차이나전기차SOLACTIVE</td>\n",
       "      <td>17850</td>\n",
       "      <td>2</td>\n",
       "      <td>440</td>\n",
       "      <td>2.53</td>\n",
       "      <td>NaN</td>\n",
       "      <td>7.2716</td>\n",
       "      <td>8417623</td>\n",
       "      <td>148973</td>\n",
       "      <td>22977</td>\n",
       "    </tr>\n",
       "    <tr>\n",
       "      <th>2</th>\n",
       "      <td>102110</td>\n",
       "      <td>1</td>\n",
       "      <td>TIGER 200</td>\n",
       "      <td>39460</td>\n",
       "      <td>2</td>\n",
       "      <td>415</td>\n",
       "      <td>1.06</td>\n",
       "      <td>39472.0</td>\n",
       "      <td>-9.6074</td>\n",
       "      <td>430561</td>\n",
       "      <td>16985</td>\n",
       "      <td>21466</td>\n",
       "    </tr>\n",
       "    <tr>\n",
       "      <th>3</th>\n",
       "      <td>153130</td>\n",
       "      <td>6</td>\n",
       "      <td>KODEX 단기채권</td>\n",
       "      <td>102965</td>\n",
       "      <td>5</td>\n",
       "      <td>-5</td>\n",
       "      <td>0.00</td>\n",
       "      <td>102964.0</td>\n",
       "      <td>0.1215</td>\n",
       "      <td>10120</td>\n",
       "      <td>1041</td>\n",
       "      <td>21277</td>\n",
       "    </tr>\n",
       "    <tr>\n",
       "      <th>4</th>\n",
       "      <td>252670</td>\n",
       "      <td>3</td>\n",
       "      <td>KODEX 200선물인버스2X</td>\n",
       "      <td>2245</td>\n",
       "      <td>5</td>\n",
       "      <td>-50</td>\n",
       "      <td>-2.18</td>\n",
       "      <td>2239.0</td>\n",
       "      <td>20.0534</td>\n",
       "      <td>187196187</td>\n",
       "      <td>421296</td>\n",
       "      <td>19906</td>\n",
       "    </tr>\n",
       "  </tbody>\n",
       "</table>\n",
       "</div>"
      ],
      "text/plain": [
       "  itemcode  etfTabCode               itemname  nowVal  risefall  changeVal  \\\n",
       "0   069500           1              KODEX 200   39420         2        400   \n",
       "1   371460           4  TIGER 차이나전기차SOLACTIVE   17850         2        440   \n",
       "2   102110           1              TIGER 200   39460         2        415   \n",
       "3   153130           6             KODEX 단기채권  102965         5         -5   \n",
       "4   252670           3       KODEX 200선물인버스2X    2245         5        -50   \n",
       "\n",
       "   changeRate       nav  threeMonthEarnRate      quant  amonut  marketSum  \n",
       "0        1.03   39436.0             -9.6680    2570170  101274      48270  \n",
       "1        2.53       NaN              7.2716    8417623  148973      22977  \n",
       "2        1.06   39472.0             -9.6074     430561   16985      21466  \n",
       "3        0.00  102964.0              0.1215      10120    1041      21277  \n",
       "4       -2.18    2239.0             20.0534  187196187  421296      19906  "
      ]
     },
     "execution_count": 6,
     "metadata": {},
     "output_type": "execute_result"
    }
   ],
   "source": [
    "# 인덱스 번호 상단 5개의 데이터를 가져옵니다.\n",
    "# 데이터를 잘 읽어왔는지 확인합니다.\n",
    "df.head()"
   ]
  },
  {
   "cell_type": "code",
   "execution_count": 7,
   "metadata": {
    "id": "sFWU55-NBYkp"
   },
   "outputs": [
    {
     "data": {
      "text/html": [
       "<div>\n",
       "<style scoped>\n",
       "    .dataframe tbody tr th:only-of-type {\n",
       "        vertical-align: middle;\n",
       "    }\n",
       "\n",
       "    .dataframe tbody tr th {\n",
       "        vertical-align: top;\n",
       "    }\n",
       "\n",
       "    .dataframe thead th {\n",
       "        text-align: right;\n",
       "    }\n",
       "</style>\n",
       "<table border=\"1\" class=\"dataframe\">\n",
       "  <thead>\n",
       "    <tr style=\"text-align: right;\">\n",
       "      <th></th>\n",
       "      <th>itemcode</th>\n",
       "      <th>etfTabCode</th>\n",
       "      <th>itemname</th>\n",
       "      <th>nowVal</th>\n",
       "      <th>risefall</th>\n",
       "      <th>changeVal</th>\n",
       "      <th>changeRate</th>\n",
       "      <th>nav</th>\n",
       "      <th>threeMonthEarnRate</th>\n",
       "      <th>quant</th>\n",
       "      <th>amonut</th>\n",
       "      <th>marketSum</th>\n",
       "    </tr>\n",
       "  </thead>\n",
       "  <tbody>\n",
       "    <tr>\n",
       "      <th>507</th>\n",
       "      <td>397420</td>\n",
       "      <td>6</td>\n",
       "      <td>KBSTAR 국채선물5년추종</td>\n",
       "      <td>49040</td>\n",
       "      <td>2</td>\n",
       "      <td>10</td>\n",
       "      <td>0.02</td>\n",
       "      <td>49018.0</td>\n",
       "      <td>NaN</td>\n",
       "      <td>3</td>\n",
       "      <td>0</td>\n",
       "      <td>24</td>\n",
       "    </tr>\n",
       "    <tr>\n",
       "      <th>508</th>\n",
       "      <td>334700</td>\n",
       "      <td>5</td>\n",
       "      <td>KBSTAR 팔라듐선물인버스(H)</td>\n",
       "      <td>5270</td>\n",
       "      <td>2</td>\n",
       "      <td>65</td>\n",
       "      <td>1.25</td>\n",
       "      <td>NaN</td>\n",
       "      <td>23.5638</td>\n",
       "      <td>3110</td>\n",
       "      <td>16</td>\n",
       "      <td>21</td>\n",
       "    </tr>\n",
       "    <tr>\n",
       "      <th>509</th>\n",
       "      <td>287330</td>\n",
       "      <td>2</td>\n",
       "      <td>KBSTAR 200생활소비재</td>\n",
       "      <td>8285</td>\n",
       "      <td>2</td>\n",
       "      <td>75</td>\n",
       "      <td>0.91</td>\n",
       "      <td>8298.0</td>\n",
       "      <td>-10.0923</td>\n",
       "      <td>2404</td>\n",
       "      <td>19</td>\n",
       "      <td>20</td>\n",
       "    </tr>\n",
       "    <tr>\n",
       "      <th>510</th>\n",
       "      <td>287310</td>\n",
       "      <td>2</td>\n",
       "      <td>KBSTAR 200경기소비재</td>\n",
       "      <td>11425</td>\n",
       "      <td>2</td>\n",
       "      <td>25</td>\n",
       "      <td>0.22</td>\n",
       "      <td>11416.0</td>\n",
       "      <td>-6.0058</td>\n",
       "      <td>217</td>\n",
       "      <td>2</td>\n",
       "      <td>16</td>\n",
       "    </tr>\n",
       "    <tr>\n",
       "      <th>511</th>\n",
       "      <td>287320</td>\n",
       "      <td>2</td>\n",
       "      <td>KBSTAR 200산업재</td>\n",
       "      <td>11900</td>\n",
       "      <td>2</td>\n",
       "      <td>115</td>\n",
       "      <td>0.98</td>\n",
       "      <td>11893.0</td>\n",
       "      <td>-10.8615</td>\n",
       "      <td>56</td>\n",
       "      <td>0</td>\n",
       "      <td>14</td>\n",
       "    </tr>\n",
       "  </tbody>\n",
       "</table>\n",
       "</div>"
      ],
      "text/plain": [
       "    itemcode  etfTabCode            itemname  nowVal  risefall  changeVal  \\\n",
       "507   397420           6     KBSTAR 국채선물5년추종   49040         2         10   \n",
       "508   334700           5  KBSTAR 팔라듐선물인버스(H)    5270         2         65   \n",
       "509   287330           2     KBSTAR 200생활소비재    8285         2         75   \n",
       "510   287310           2     KBSTAR 200경기소비재   11425         2         25   \n",
       "511   287320           2       KBSTAR 200산업재   11900         2        115   \n",
       "\n",
       "     changeRate      nav  threeMonthEarnRate  quant  amonut  marketSum  \n",
       "507        0.02  49018.0                 NaN      3       0         24  \n",
       "508        1.25      NaN             23.5638   3110      16         21  \n",
       "509        0.91   8298.0            -10.0923   2404      19         20  \n",
       "510        0.22  11416.0             -6.0058    217       2         16  \n",
       "511        0.98  11893.0            -10.8615     56       0         14  "
      ]
     },
     "execution_count": 7,
     "metadata": {},
     "output_type": "execute_result"
    }
   ],
   "source": [
    "# 인덱스 하단의 5개 데이터를 가져옵니다.\n",
    "# 데이터를 잘 읽어왔는지 확인합니다.\n",
    "df.tail()"
   ]
  },
  {
   "cell_type": "code",
   "execution_count": 8,
   "metadata": {
    "id": "LxSJgh3rBYkq",
    "scrolled": true
   },
   "outputs": [
    {
     "name": "stdout",
     "output_type": "stream",
     "text": [
      "<class 'pandas.core.frame.DataFrame'>\n",
      "RangeIndex: 512 entries, 0 to 511\n",
      "Data columns (total 12 columns):\n",
      " #   Column              Non-Null Count  Dtype  \n",
      "---  ------              --------------  -----  \n",
      " 0   itemcode            512 non-null    object \n",
      " 1   etfTabCode          512 non-null    int64  \n",
      " 2   itemname            512 non-null    object \n",
      " 3   nowVal              512 non-null    int64  \n",
      " 4   risefall            512 non-null    int64  \n",
      " 5   changeVal           512 non-null    int64  \n",
      " 6   changeRate          512 non-null    float64\n",
      " 7   nav                 363 non-null    float64\n",
      " 8   threeMonthEarnRate  482 non-null    float64\n",
      " 9   quant               512 non-null    int64  \n",
      " 10  amonut              512 non-null    int64  \n",
      " 11  marketSum           512 non-null    int64  \n",
      "dtypes: float64(3), int64(7), object(2)\n",
      "memory usage: 48.1+ KB\n"
     ]
    }
   ],
   "source": [
    "# info를 통해서 각 column들의 데이터타입과 결측치, 메모리 사용량 등을 볼 수 있습니다.\n",
    "df.info()"
   ]
  },
  {
   "cell_type": "markdown",
   "metadata": {},
   "source": [
    "* 웹사이트의 ETF 정보와 비교하며 어떤 컬럼이 어떤 값인지 확인합니다. \n",
    "* https://finance.naver.com/sise/etf.nhn "
   ]
  },
  {
   "cell_type": "code",
   "execution_count": 14,
   "metadata": {
    "id": "cdS2JB71BYkq"
   },
   "outputs": [
    {
     "data": {
      "text/html": [
       "<div>\n",
       "<style scoped>\n",
       "    .dataframe tbody tr th:only-of-type {\n",
       "        vertical-align: middle;\n",
       "    }\n",
       "\n",
       "    .dataframe tbody tr th {\n",
       "        vertical-align: top;\n",
       "    }\n",
       "\n",
       "    .dataframe thead th {\n",
       "        text-align: right;\n",
       "    }\n",
       "</style>\n",
       "<table border=\"1\" class=\"dataframe\">\n",
       "  <thead>\n",
       "    <tr style=\"text-align: right;\">\n",
       "      <th></th>\n",
       "      <th>itemcode</th>\n",
       "      <th>etfTabCode</th>\n",
       "      <th>itemname</th>\n",
       "      <th>nowVal</th>\n",
       "      <th>risefall</th>\n",
       "      <th>changeVal</th>\n",
       "      <th>changeRate</th>\n",
       "      <th>nav</th>\n",
       "      <th>threeMonthEarnRate</th>\n",
       "      <th>quant</th>\n",
       "      <th>amonut</th>\n",
       "      <th>marketSum</th>\n",
       "    </tr>\n",
       "  </thead>\n",
       "  <tbody>\n",
       "    <tr>\n",
       "      <th>4</th>\n",
       "      <td>252670</td>\n",
       "      <td>3</td>\n",
       "      <td>KODEX 200선물인버스2X</td>\n",
       "      <td>2245</td>\n",
       "      <td>5</td>\n",
       "      <td>-50</td>\n",
       "      <td>-2.18</td>\n",
       "      <td>2239.0</td>\n",
       "      <td>20.0534</td>\n",
       "      <td>187196187</td>\n",
       "      <td>421296</td>\n",
       "      <td>19906</td>\n",
       "    </tr>\n",
       "    <tr>\n",
       "      <th>13</th>\n",
       "      <td>114800</td>\n",
       "      <td>3</td>\n",
       "      <td>KODEX 인버스</td>\n",
       "      <td>4070</td>\n",
       "      <td>5</td>\n",
       "      <td>-45</td>\n",
       "      <td>-1.09</td>\n",
       "      <td>4065.0</td>\n",
       "      <td>10.0000</td>\n",
       "      <td>32468613</td>\n",
       "      <td>132306</td>\n",
       "      <td>11376</td>\n",
       "    </tr>\n",
       "    <tr>\n",
       "      <th>32</th>\n",
       "      <td>251340</td>\n",
       "      <td>3</td>\n",
       "      <td>KODEX 코스닥150선물인버스</td>\n",
       "      <td>4340</td>\n",
       "      <td>5</td>\n",
       "      <td>-10</td>\n",
       "      <td>-0.23</td>\n",
       "      <td>4348.0</td>\n",
       "      <td>1.5204</td>\n",
       "      <td>26365179</td>\n",
       "      <td>114691</td>\n",
       "      <td>4700</td>\n",
       "    </tr>\n",
       "    <tr>\n",
       "      <th>5</th>\n",
       "      <td>122630</td>\n",
       "      <td>3</td>\n",
       "      <td>KODEX 레버리지</td>\n",
       "      <td>23535</td>\n",
       "      <td>2</td>\n",
       "      <td>485</td>\n",
       "      <td>2.10</td>\n",
       "      <td>23620.0</td>\n",
       "      <td>-18.7608</td>\n",
       "      <td>19143272</td>\n",
       "      <td>449886</td>\n",
       "      <td>19299</td>\n",
       "    </tr>\n",
       "    <tr>\n",
       "      <th>1</th>\n",
       "      <td>371460</td>\n",
       "      <td>4</td>\n",
       "      <td>TIGER 차이나전기차SOLACTIVE</td>\n",
       "      <td>17850</td>\n",
       "      <td>2</td>\n",
       "      <td>440</td>\n",
       "      <td>2.53</td>\n",
       "      <td>NaN</td>\n",
       "      <td>7.2716</td>\n",
       "      <td>8417623</td>\n",
       "      <td>148973</td>\n",
       "      <td>22977</td>\n",
       "    </tr>\n",
       "    <tr>\n",
       "      <th>20</th>\n",
       "      <td>233740</td>\n",
       "      <td>1</td>\n",
       "      <td>KODEX 코스닥150 레버리지</td>\n",
       "      <td>14870</td>\n",
       "      <td>2</td>\n",
       "      <td>90</td>\n",
       "      <td>0.61</td>\n",
       "      <td>15033.0</td>\n",
       "      <td>-7.4674</td>\n",
       "      <td>7626923</td>\n",
       "      <td>112963</td>\n",
       "      <td>8461</td>\n",
       "    </tr>\n",
       "    <tr>\n",
       "      <th>88</th>\n",
       "      <td>252710</td>\n",
       "      <td>3</td>\n",
       "      <td>TIGER 200선물인버스2X</td>\n",
       "      <td>2340</td>\n",
       "      <td>5</td>\n",
       "      <td>-50</td>\n",
       "      <td>-2.09</td>\n",
       "      <td>2328.0</td>\n",
       "      <td>20.9302</td>\n",
       "      <td>6745079</td>\n",
       "      <td>15783</td>\n",
       "      <td>1280</td>\n",
       "    </tr>\n",
       "    <tr>\n",
       "      <th>0</th>\n",
       "      <td>069500</td>\n",
       "      <td>1</td>\n",
       "      <td>KODEX 200</td>\n",
       "      <td>39420</td>\n",
       "      <td>2</td>\n",
       "      <td>400</td>\n",
       "      <td>1.03</td>\n",
       "      <td>39436.0</td>\n",
       "      <td>-9.6680</td>\n",
       "      <td>2570170</td>\n",
       "      <td>101274</td>\n",
       "      <td>48270</td>\n",
       "    </tr>\n",
       "    <tr>\n",
       "      <th>6</th>\n",
       "      <td>214980</td>\n",
       "      <td>6</td>\n",
       "      <td>KODEX 단기채권PLUS</td>\n",
       "      <td>103275</td>\n",
       "      <td>2</td>\n",
       "      <td>5</td>\n",
       "      <td>0.00</td>\n",
       "      <td>103278.0</td>\n",
       "      <td>0.1260</td>\n",
       "      <td>2522411</td>\n",
       "      <td>260501</td>\n",
       "      <td>18504</td>\n",
       "    </tr>\n",
       "    <tr>\n",
       "      <th>25</th>\n",
       "      <td>394670</td>\n",
       "      <td>4</td>\n",
       "      <td>TIGER 글로벌리튬&amp;2차전지SOLACTIVE(합성)</td>\n",
       "      <td>11450</td>\n",
       "      <td>2</td>\n",
       "      <td>330</td>\n",
       "      <td>2.97</td>\n",
       "      <td>NaN</td>\n",
       "      <td>NaN</td>\n",
       "      <td>2050621</td>\n",
       "      <td>23263</td>\n",
       "      <td>6902</td>\n",
       "    </tr>\n",
       "  </tbody>\n",
       "</table>\n",
       "</div>"
      ],
      "text/plain": [
       "   itemcode  etfTabCode                       itemname  nowVal  risefall  \\\n",
       "4    252670           3               KODEX 200선물인버스2X    2245         5   \n",
       "13   114800           3                      KODEX 인버스    4070         5   \n",
       "32   251340           3              KODEX 코스닥150선물인버스    4340         5   \n",
       "5    122630           3                     KODEX 레버리지   23535         2   \n",
       "1    371460           4          TIGER 차이나전기차SOLACTIVE   17850         2   \n",
       "20   233740           1              KODEX 코스닥150 레버리지   14870         2   \n",
       "88   252710           3               TIGER 200선물인버스2X    2340         5   \n",
       "0    069500           1                      KODEX 200   39420         2   \n",
       "6    214980           6                 KODEX 단기채권PLUS  103275         2   \n",
       "25   394670           4  TIGER 글로벌리튬&2차전지SOLACTIVE(합성)   11450         2   \n",
       "\n",
       "    changeVal  changeRate       nav  threeMonthEarnRate      quant  amonut  \\\n",
       "4         -50       -2.18    2239.0             20.0534  187196187  421296   \n",
       "13        -45       -1.09    4065.0             10.0000   32468613  132306   \n",
       "32        -10       -0.23    4348.0              1.5204   26365179  114691   \n",
       "5         485        2.10   23620.0            -18.7608   19143272  449886   \n",
       "1         440        2.53       NaN              7.2716    8417623  148973   \n",
       "20         90        0.61   15033.0             -7.4674    7626923  112963   \n",
       "88        -50       -2.09    2328.0             20.9302    6745079   15783   \n",
       "0         400        1.03   39436.0             -9.6680    2570170  101274   \n",
       "6           5        0.00  103278.0              0.1260    2522411  260501   \n",
       "25        330        2.97       NaN                 NaN    2050621   23263   \n",
       "\n",
       "    marketSum  \n",
       "4       19906  \n",
       "13      11376  \n",
       "32       4700  \n",
       "5       19299  \n",
       "1       22977  \n",
       "20       8461  \n",
       "88       1280  \n",
       "0       48270  \n",
       "6       18504  \n",
       "25       6902  "
      ]
     },
     "execution_count": 14,
     "metadata": {},
     "output_type": "execute_result"
    }
   ],
   "source": [
    "# https://finance.naver.com/sise/etf.nhn 에서 값을 비교해보면 quant는 거래량임을 알 수 있습니다.\n",
    "# 거래량(quant) 기준으로 내림차순으로 정렬하여 상위 10개의 데이터를 봅니다.\n",
    "\n",
    "df.sort_values(by='quant', ascending=False).head(10)"
   ]
  },
  {
   "cell_type": "code",
   "execution_count": 15,
   "metadata": {
    "id": "_65UmaWzBYkq"
   },
   "outputs": [
    {
     "data": {
      "text/plain": [
       "1     67\n",
       "2    191\n",
       "3     31\n",
       "4    118\n",
       "5     14\n",
       "6     60\n",
       "7     31\n",
       "Name: etfTabCode, dtype: int64"
      ]
     },
     "execution_count": 15,
     "metadata": {},
     "output_type": "execute_result"
    }
   ],
   "source": [
    "# etfTabCode column의 데이터 구성을 살펴봅니다.\n",
    "# 추후 알게되겠지만 etfTabCode는 해당 사이트에서 \n",
    "# 전체(0), 국내 시장지수(1), 국내 업종/테마(2), 국내 파생(3) ~\n",
    "# 해외 주식(4), 원자재(5), 채권(6), 기타(7)로 자료가 구분되어 있습니다.\n",
    "df['etfTabCode'].value_counts().sort_index()"
   ]
  },
  {
   "cell_type": "code",
   "execution_count": 16,
   "metadata": {
    "id": "k61c2Hr1BYkq"
   },
   "outputs": [
    {
     "data": {
      "text/html": [
       "<div>\n",
       "<style scoped>\n",
       "    .dataframe tbody tr th:only-of-type {\n",
       "        vertical-align: middle;\n",
       "    }\n",
       "\n",
       "    .dataframe tbody tr th {\n",
       "        vertical-align: top;\n",
       "    }\n",
       "\n",
       "    .dataframe thead th {\n",
       "        text-align: right;\n",
       "    }\n",
       "</style>\n",
       "<table border=\"1\" class=\"dataframe\">\n",
       "  <thead>\n",
       "    <tr style=\"text-align: right;\">\n",
       "      <th></th>\n",
       "      <th>itemcode</th>\n",
       "      <th>etfTabCode</th>\n",
       "      <th>itemname</th>\n",
       "      <th>nowVal</th>\n",
       "      <th>risefall</th>\n",
       "      <th>changeVal</th>\n",
       "      <th>changeRate</th>\n",
       "      <th>nav</th>\n",
       "      <th>threeMonthEarnRate</th>\n",
       "      <th>quant</th>\n",
       "      <th>amonut</th>\n",
       "      <th>marketSum</th>\n",
       "    </tr>\n",
       "  </thead>\n",
       "  <tbody>\n",
       "    <tr>\n",
       "      <th>0</th>\n",
       "      <td>069500</td>\n",
       "      <td>1</td>\n",
       "      <td>KODEX 200</td>\n",
       "      <td>39420</td>\n",
       "      <td>2</td>\n",
       "      <td>400</td>\n",
       "      <td>1.03</td>\n",
       "      <td>39436.0</td>\n",
       "      <td>-9.6680</td>\n",
       "      <td>2570170</td>\n",
       "      <td>101274</td>\n",
       "      <td>48270</td>\n",
       "    </tr>\n",
       "    <tr>\n",
       "      <th>2</th>\n",
       "      <td>102110</td>\n",
       "      <td>1</td>\n",
       "      <td>TIGER 200</td>\n",
       "      <td>39460</td>\n",
       "      <td>2</td>\n",
       "      <td>415</td>\n",
       "      <td>1.06</td>\n",
       "      <td>39472.0</td>\n",
       "      <td>-9.6074</td>\n",
       "      <td>430561</td>\n",
       "      <td>16985</td>\n",
       "      <td>21466</td>\n",
       "    </tr>\n",
       "    <tr>\n",
       "      <th>12</th>\n",
       "      <td>278530</td>\n",
       "      <td>1</td>\n",
       "      <td>KODEX 200TR</td>\n",
       "      <td>12890</td>\n",
       "      <td>2</td>\n",
       "      <td>130</td>\n",
       "      <td>1.02</td>\n",
       "      <td>12913.0</td>\n",
       "      <td>-9.7971</td>\n",
       "      <td>76484</td>\n",
       "      <td>986</td>\n",
       "      <td>11678</td>\n",
       "    </tr>\n",
       "    <tr>\n",
       "      <th>16</th>\n",
       "      <td>148020</td>\n",
       "      <td>1</td>\n",
       "      <td>KBSTAR 200</td>\n",
       "      <td>39500</td>\n",
       "      <td>2</td>\n",
       "      <td>415</td>\n",
       "      <td>1.06</td>\n",
       "      <td>39526.0</td>\n",
       "      <td>-9.5883</td>\n",
       "      <td>151047</td>\n",
       "      <td>5970</td>\n",
       "      <td>10724</td>\n",
       "    </tr>\n",
       "    <tr>\n",
       "      <th>17</th>\n",
       "      <td>278540</td>\n",
       "      <td>1</td>\n",
       "      <td>KODEX MSCI Korea TR</td>\n",
       "      <td>12555</td>\n",
       "      <td>2</td>\n",
       "      <td>140</td>\n",
       "      <td>1.13</td>\n",
       "      <td>12558.0</td>\n",
       "      <td>-10.2253</td>\n",
       "      <td>481525</td>\n",
       "      <td>6040</td>\n",
       "      <td>10107</td>\n",
       "    </tr>\n",
       "    <tr>\n",
       "      <th>...</th>\n",
       "      <td>...</td>\n",
       "      <td>...</td>\n",
       "      <td>...</td>\n",
       "      <td>...</td>\n",
       "      <td>...</td>\n",
       "      <td>...</td>\n",
       "      <td>...</td>\n",
       "      <td>...</td>\n",
       "      <td>...</td>\n",
       "      <td>...</td>\n",
       "      <td>...</td>\n",
       "      <td>...</td>\n",
       "    </tr>\n",
       "    <tr>\n",
       "      <th>419</th>\n",
       "      <td>391670</td>\n",
       "      <td>1</td>\n",
       "      <td>HK 베스트일레븐액티브</td>\n",
       "      <td>9600</td>\n",
       "      <td>2</td>\n",
       "      <td>35</td>\n",
       "      <td>0.37</td>\n",
       "      <td>9593.0</td>\n",
       "      <td>-3.0304</td>\n",
       "      <td>1061</td>\n",
       "      <td>10</td>\n",
       "      <td>72</td>\n",
       "    </tr>\n",
       "    <tr>\n",
       "      <th>432</th>\n",
       "      <td>391680</td>\n",
       "      <td>1</td>\n",
       "      <td>HK 하이볼액티브</td>\n",
       "      <td>9075</td>\n",
       "      <td>2</td>\n",
       "      <td>70</td>\n",
       "      <td>0.78</td>\n",
       "      <td>9114.0</td>\n",
       "      <td>-8.7482</td>\n",
       "      <td>21849</td>\n",
       "      <td>198</td>\n",
       "      <td>68</td>\n",
       "    </tr>\n",
       "    <tr>\n",
       "      <th>469</th>\n",
       "      <td>295820</td>\n",
       "      <td>1</td>\n",
       "      <td>ARIRANG 200동일가중</td>\n",
       "      <td>11795</td>\n",
       "      <td>2</td>\n",
       "      <td>115</td>\n",
       "      <td>0.98</td>\n",
       "      <td>11782.0</td>\n",
       "      <td>-4.1447</td>\n",
       "      <td>368</td>\n",
       "      <td>4</td>\n",
       "      <td>53</td>\n",
       "    </tr>\n",
       "    <tr>\n",
       "      <th>479</th>\n",
       "      <td>275750</td>\n",
       "      <td>1</td>\n",
       "      <td>KBSTAR 코스닥150선물인버스</td>\n",
       "      <td>4595</td>\n",
       "      <td>5</td>\n",
       "      <td>-10</td>\n",
       "      <td>-0.22</td>\n",
       "      <td>4586.0</td>\n",
       "      <td>1.6592</td>\n",
       "      <td>18041</td>\n",
       "      <td>82</td>\n",
       "      <td>48</td>\n",
       "    </tr>\n",
       "    <tr>\n",
       "      <th>505</th>\n",
       "      <td>301400</td>\n",
       "      <td>1</td>\n",
       "      <td>ARIRANG 코스닥150</td>\n",
       "      <td>14350</td>\n",
       "      <td>2</td>\n",
       "      <td>40</td>\n",
       "      <td>0.28</td>\n",
       "      <td>14492.0</td>\n",
       "      <td>-4.3653</td>\n",
       "      <td>486</td>\n",
       "      <td>6</td>\n",
       "      <td>29</td>\n",
       "    </tr>\n",
       "  </tbody>\n",
       "</table>\n",
       "<p>67 rows × 12 columns</p>\n",
       "</div>"
      ],
      "text/plain": [
       "    itemcode  etfTabCode             itemname  nowVal  risefall  changeVal  \\\n",
       "0     069500           1            KODEX 200   39420         2        400   \n",
       "2     102110           1            TIGER 200   39460         2        415   \n",
       "12    278530           1          KODEX 200TR   12890         2        130   \n",
       "16    148020           1           KBSTAR 200   39500         2        415   \n",
       "17    278540           1  KODEX MSCI Korea TR   12555         2        140   \n",
       "..       ...         ...                  ...     ...       ...        ...   \n",
       "419   391670           1         HK 베스트일레븐액티브    9600         2         35   \n",
       "432   391680           1            HK 하이볼액티브    9075         2         70   \n",
       "469   295820           1      ARIRANG 200동일가중   11795         2        115   \n",
       "479   275750           1   KBSTAR 코스닥150선물인버스    4595         5        -10   \n",
       "505   301400           1       ARIRANG 코스닥150   14350         2         40   \n",
       "\n",
       "     changeRate      nav  threeMonthEarnRate    quant  amonut  marketSum  \n",
       "0          1.03  39436.0             -9.6680  2570170  101274      48270  \n",
       "2          1.06  39472.0             -9.6074   430561   16985      21466  \n",
       "12         1.02  12913.0             -9.7971    76484     986      11678  \n",
       "16         1.06  39526.0             -9.5883   151047    5970      10724  \n",
       "17         1.13  12558.0            -10.2253   481525    6040      10107  \n",
       "..          ...      ...                 ...      ...     ...        ...  \n",
       "419        0.37   9593.0             -3.0304     1061      10         72  \n",
       "432        0.78   9114.0             -8.7482    21849     198         68  \n",
       "469        0.98  11782.0             -4.1447      368       4         53  \n",
       "479       -0.22   4586.0              1.6592    18041      82         48  \n",
       "505        0.28  14492.0             -4.3653      486       6         29  \n",
       "\n",
       "[67 rows x 12 columns]"
      ]
     },
     "execution_count": 16,
     "metadata": {},
     "output_type": "execute_result"
    }
   ],
   "source": [
    "# pandas 의 boolean Indexing을 사용해서\n",
    "# 국내 시장지수(etfTabCode == 1)의 데이터들만 확인하여 봅니다.\n",
    "# 조건문의 결과가 Index와  True, False 로 나오기 때문에 boolean Indexing 이라 부릅니다.\n",
    "df[df['etfTabCode'] == 1]"
   ]
  },
  {
   "cell_type": "markdown",
   "metadata": {
    "id": "SAp8CMEYNw8H"
   },
   "source": [
    "## 데이터 전처리\n",
    "### etfTabName 만들기"
   ]
  },
  {
   "cell_type": "code",
   "execution_count": 21,
   "metadata": {
    "id": "8YTSMwXgBYkq"
   },
   "outputs": [
    {
     "data": {
      "text/plain": [
       "'전체\\n국내 시장지수\\n국내 업종/테마\\n국내 파생\\n해외 주식\\n원자재\\n채권\\n기타'"
      ]
     },
     "execution_count": 21,
     "metadata": {},
     "output_type": "execute_result"
    }
   ],
   "source": [
    "# etf name을 구분하기 위한 list를 만듭니다.\n",
    "# \"\"\" 를 이용해 \\n을 포함하는 string을 만들고 split으로 나누어서 list를 간편히 만들수 있습니다.\n",
    "etfcode = \"\"\"전체\n",
    "국내 시장지수\n",
    "국내 업종/테마\n",
    "국내 파생\n",
    "해외 주식\n",
    "원자재\n",
    "채권\n",
    "기타\"\"\"\n",
    "etfcode"
   ]
  },
  {
   "cell_type": "code",
   "execution_count": 26,
   "metadata": {
    "id": "H7AFA9ftBYkq",
    "scrolled": true
   },
   "outputs": [
    {
     "data": {
      "text/plain": [
       "['전체', '국내 시장지수', '국내 업종/테마', '국내 파생', '해외 주식', '원자재', '채권', '기타']"
      ]
     },
     "execution_count": 26,
     "metadata": {},
     "output_type": "execute_result"
    }
   ],
   "source": [
    "# split으로 나누어 list형 데이터를 만듭니다.\n",
    "etf_tab_name = etfcode.split('\\n')\n",
    "etf_tab_name"
   ]
  },
  {
   "cell_type": "code",
   "execution_count": 29,
   "metadata": {},
   "outputs": [
    {
     "data": {
      "text/plain": [
       "'국내 업종/테마'"
      ]
     },
     "execution_count": 29,
     "metadata": {},
     "output_type": "execute_result"
    }
   ],
   "source": [
    "etf_tab_name[2]"
   ]
  },
  {
   "cell_type": "markdown",
   "metadata": {},
   "source": [
    "#### 참고. \"\"\" 사용 시 불필요한 공백이 생기는 경우\"\"\""
   ]
  },
  {
   "cell_type": "code",
   "execution_count": 23,
   "metadata": {},
   "outputs": [
    {
     "data": {
      "text/plain": [
       "'\\n전체\\n국내 시장지수\\n국내 업종/테마\\n국내 파생\\n해외 주식\\n원자재\\n채권\\n기타\\n'"
      ]
     },
     "execution_count": 23,
     "metadata": {},
     "output_type": "execute_result"
    }
   ],
   "source": [
    "etfcode_ = \"\"\"\n",
    "전체\n",
    "국내 시장지수\n",
    "국내 업종/테마\n",
    "국내 파생\n",
    "해외 주식\n",
    "원자재\n",
    "채권\n",
    "기타\n",
    "\"\"\"\n",
    "etfcode_"
   ]
  },
  {
   "cell_type": "code",
   "execution_count": 24,
   "metadata": {
    "scrolled": true
   },
   "outputs": [
    {
     "data": {
      "text/plain": [
       "['', '전체', '국내 시장지수', '국내 업종/테마', '국내 파생', '해외 주식', '원자재', '채권', '기타', '']"
      ]
     },
     "execution_count": 24,
     "metadata": {},
     "output_type": "execute_result"
    }
   ],
   "source": [
    "etfcode_.split('\\n')"
   ]
  },
  {
   "cell_type": "code",
   "execution_count": 30,
   "metadata": {},
   "outputs": [
    {
     "data": {
      "text/plain": [
       "'국내 업종/테마'"
      ]
     },
     "execution_count": 30,
     "metadata": {},
     "output_type": "execute_result"
    }
   ],
   "source": [
    "def find_etf_tab_name(no):\n",
    "    return etf_tab_name[no]\n",
    "\n",
    "find_etf_tab_name(2)"
   ]
  },
  {
   "cell_type": "code",
   "execution_count": 35,
   "metadata": {},
   "outputs": [
    {
     "data": {
      "text/html": [
       "<div>\n",
       "<style scoped>\n",
       "    .dataframe tbody tr th:only-of-type {\n",
       "        vertical-align: middle;\n",
       "    }\n",
       "\n",
       "    .dataframe tbody tr th {\n",
       "        vertical-align: top;\n",
       "    }\n",
       "\n",
       "    .dataframe thead th {\n",
       "        text-align: right;\n",
       "    }\n",
       "</style>\n",
       "<table border=\"1\" class=\"dataframe\">\n",
       "  <thead>\n",
       "    <tr style=\"text-align: right;\">\n",
       "      <th></th>\n",
       "      <th>itemcode</th>\n",
       "      <th>etfTabCode</th>\n",
       "      <th>itemname</th>\n",
       "      <th>nowVal</th>\n",
       "      <th>risefall</th>\n",
       "      <th>changeVal</th>\n",
       "      <th>changeRate</th>\n",
       "      <th>nav</th>\n",
       "      <th>threeMonthEarnRate</th>\n",
       "      <th>quant</th>\n",
       "      <th>amonut</th>\n",
       "      <th>marketSum</th>\n",
       "    </tr>\n",
       "  </thead>\n",
       "  <tbody>\n",
       "    <tr>\n",
       "      <th>0</th>\n",
       "      <td>069500</td>\n",
       "      <td>1</td>\n",
       "      <td>KODEX 200</td>\n",
       "      <td>39420</td>\n",
       "      <td>2</td>\n",
       "      <td>400</td>\n",
       "      <td>1.03</td>\n",
       "      <td>39436.0</td>\n",
       "      <td>-9.6680</td>\n",
       "      <td>2570170</td>\n",
       "      <td>101274</td>\n",
       "      <td>48270</td>\n",
       "    </tr>\n",
       "    <tr>\n",
       "      <th>1</th>\n",
       "      <td>371460</td>\n",
       "      <td>4</td>\n",
       "      <td>TIGER 차이나전기차SOLACTIVE</td>\n",
       "      <td>17850</td>\n",
       "      <td>2</td>\n",
       "      <td>440</td>\n",
       "      <td>2.53</td>\n",
       "      <td>NaN</td>\n",
       "      <td>7.2716</td>\n",
       "      <td>8417623</td>\n",
       "      <td>148973</td>\n",
       "      <td>22977</td>\n",
       "    </tr>\n",
       "    <tr>\n",
       "      <th>2</th>\n",
       "      <td>102110</td>\n",
       "      <td>1</td>\n",
       "      <td>TIGER 200</td>\n",
       "      <td>39460</td>\n",
       "      <td>2</td>\n",
       "      <td>415</td>\n",
       "      <td>1.06</td>\n",
       "      <td>39472.0</td>\n",
       "      <td>-9.6074</td>\n",
       "      <td>430561</td>\n",
       "      <td>16985</td>\n",
       "      <td>21466</td>\n",
       "    </tr>\n",
       "    <tr>\n",
       "      <th>3</th>\n",
       "      <td>153130</td>\n",
       "      <td>6</td>\n",
       "      <td>KODEX 단기채권</td>\n",
       "      <td>102965</td>\n",
       "      <td>5</td>\n",
       "      <td>-5</td>\n",
       "      <td>0.00</td>\n",
       "      <td>102964.0</td>\n",
       "      <td>0.1215</td>\n",
       "      <td>10120</td>\n",
       "      <td>1041</td>\n",
       "      <td>21277</td>\n",
       "    </tr>\n",
       "    <tr>\n",
       "      <th>4</th>\n",
       "      <td>252670</td>\n",
       "      <td>3</td>\n",
       "      <td>KODEX 200선물인버스2X</td>\n",
       "      <td>2245</td>\n",
       "      <td>5</td>\n",
       "      <td>-50</td>\n",
       "      <td>-2.18</td>\n",
       "      <td>2239.0</td>\n",
       "      <td>20.0534</td>\n",
       "      <td>187196187</td>\n",
       "      <td>421296</td>\n",
       "      <td>19906</td>\n",
       "    </tr>\n",
       "    <tr>\n",
       "      <th>...</th>\n",
       "      <td>...</td>\n",
       "      <td>...</td>\n",
       "      <td>...</td>\n",
       "      <td>...</td>\n",
       "      <td>...</td>\n",
       "      <td>...</td>\n",
       "      <td>...</td>\n",
       "      <td>...</td>\n",
       "      <td>...</td>\n",
       "      <td>...</td>\n",
       "      <td>...</td>\n",
       "      <td>...</td>\n",
       "    </tr>\n",
       "    <tr>\n",
       "      <th>507</th>\n",
       "      <td>397420</td>\n",
       "      <td>6</td>\n",
       "      <td>KBSTAR 국채선물5년추종</td>\n",
       "      <td>49040</td>\n",
       "      <td>2</td>\n",
       "      <td>10</td>\n",
       "      <td>0.02</td>\n",
       "      <td>49018.0</td>\n",
       "      <td>NaN</td>\n",
       "      <td>3</td>\n",
       "      <td>0</td>\n",
       "      <td>24</td>\n",
       "    </tr>\n",
       "    <tr>\n",
       "      <th>508</th>\n",
       "      <td>334700</td>\n",
       "      <td>5</td>\n",
       "      <td>KBSTAR 팔라듐선물인버스(H)</td>\n",
       "      <td>5270</td>\n",
       "      <td>2</td>\n",
       "      <td>65</td>\n",
       "      <td>1.25</td>\n",
       "      <td>NaN</td>\n",
       "      <td>23.5638</td>\n",
       "      <td>3110</td>\n",
       "      <td>16</td>\n",
       "      <td>21</td>\n",
       "    </tr>\n",
       "    <tr>\n",
       "      <th>509</th>\n",
       "      <td>287330</td>\n",
       "      <td>2</td>\n",
       "      <td>KBSTAR 200생활소비재</td>\n",
       "      <td>8285</td>\n",
       "      <td>2</td>\n",
       "      <td>75</td>\n",
       "      <td>0.91</td>\n",
       "      <td>8298.0</td>\n",
       "      <td>-10.0923</td>\n",
       "      <td>2404</td>\n",
       "      <td>19</td>\n",
       "      <td>20</td>\n",
       "    </tr>\n",
       "    <tr>\n",
       "      <th>510</th>\n",
       "      <td>287310</td>\n",
       "      <td>2</td>\n",
       "      <td>KBSTAR 200경기소비재</td>\n",
       "      <td>11425</td>\n",
       "      <td>2</td>\n",
       "      <td>25</td>\n",
       "      <td>0.22</td>\n",
       "      <td>11416.0</td>\n",
       "      <td>-6.0058</td>\n",
       "      <td>217</td>\n",
       "      <td>2</td>\n",
       "      <td>16</td>\n",
       "    </tr>\n",
       "    <tr>\n",
       "      <th>511</th>\n",
       "      <td>287320</td>\n",
       "      <td>2</td>\n",
       "      <td>KBSTAR 200산업재</td>\n",
       "      <td>11900</td>\n",
       "      <td>2</td>\n",
       "      <td>115</td>\n",
       "      <td>0.98</td>\n",
       "      <td>11893.0</td>\n",
       "      <td>-10.8615</td>\n",
       "      <td>56</td>\n",
       "      <td>0</td>\n",
       "      <td>14</td>\n",
       "    </tr>\n",
       "  </tbody>\n",
       "</table>\n",
       "<p>512 rows × 12 columns</p>\n",
       "</div>"
      ],
      "text/plain": [
       "    itemcode  etfTabCode               itemname  nowVal  risefall  changeVal  \\\n",
       "0     069500           1              KODEX 200   39420         2        400   \n",
       "1     371460           4  TIGER 차이나전기차SOLACTIVE   17850         2        440   \n",
       "2     102110           1              TIGER 200   39460         2        415   \n",
       "3     153130           6             KODEX 단기채권  102965         5         -5   \n",
       "4     252670           3       KODEX 200선물인버스2X    2245         5        -50   \n",
       "..       ...         ...                    ...     ...       ...        ...   \n",
       "507   397420           6        KBSTAR 국채선물5년추종   49040         2         10   \n",
       "508   334700           5     KBSTAR 팔라듐선물인버스(H)    5270         2         65   \n",
       "509   287330           2        KBSTAR 200생활소비재    8285         2         75   \n",
       "510   287310           2        KBSTAR 200경기소비재   11425         2         25   \n",
       "511   287320           2          KBSTAR 200산업재   11900         2        115   \n",
       "\n",
       "     changeRate       nav  threeMonthEarnRate      quant  amonut  marketSum  \n",
       "0          1.03   39436.0             -9.6680    2570170  101274      48270  \n",
       "1          2.53       NaN              7.2716    8417623  148973      22977  \n",
       "2          1.06   39472.0             -9.6074     430561   16985      21466  \n",
       "3          0.00  102964.0              0.1215      10120    1041      21277  \n",
       "4         -2.18    2239.0             20.0534  187196187  421296      19906  \n",
       "..          ...       ...                 ...        ...     ...        ...  \n",
       "507        0.02   49018.0                 NaN          3       0         24  \n",
       "508        1.25       NaN             23.5638       3110      16         21  \n",
       "509        0.91    8298.0            -10.0923       2404      19         20  \n",
       "510        0.22   11416.0             -6.0058        217       2         16  \n",
       "511        0.98   11893.0            -10.8615         56       0         14  \n",
       "\n",
       "[512 rows x 12 columns]"
      ]
     },
     "execution_count": 35,
     "metadata": {},
     "output_type": "execute_result"
    }
   ],
   "source": [
    "df"
   ]
  },
  {
   "cell_type": "code",
   "execution_count": 39,
   "metadata": {
    "id": "LrmLD2j0BYkq"
   },
   "outputs": [],
   "source": [
    "# etfTabName 이름이 직관적이지 않기 때문에 한글로 변경해 줍니다.\n",
    "# map과 lambda 함수를 이용하여 eftTabCode column들의 각 cell의 내용에 따라\n",
    "# etf_tab_name list의 원소값에 따라 이름을 만들어 주고 etfTabName 이라는 새로운 컬럼을 생성합니다.\n",
    "# 즉 etfTabCode 숫자 -> list의 원소 인덱스로 한글 이름을 매핑해 줍니다. -> etfTabName에 한글로 저장\n",
    "df['etfTabName'] = df[\"etfTabCode\"].map(lambda x: etf_tab_name[x])"
   ]
  },
  {
   "cell_type": "code",
   "execution_count": 41,
   "metadata": {},
   "outputs": [
    {
     "data": {
      "text/html": [
       "<div>\n",
       "<style scoped>\n",
       "    .dataframe tbody tr th:only-of-type {\n",
       "        vertical-align: middle;\n",
       "    }\n",
       "\n",
       "    .dataframe tbody tr th {\n",
       "        vertical-align: top;\n",
       "    }\n",
       "\n",
       "    .dataframe thead th {\n",
       "        text-align: right;\n",
       "    }\n",
       "</style>\n",
       "<table border=\"1\" class=\"dataframe\">\n",
       "  <thead>\n",
       "    <tr style=\"text-align: right;\">\n",
       "      <th></th>\n",
       "      <th>itemname</th>\n",
       "      <th>etfTabName</th>\n",
       "    </tr>\n",
       "  </thead>\n",
       "  <tbody>\n",
       "    <tr>\n",
       "      <th>0</th>\n",
       "      <td>KODEX 200</td>\n",
       "      <td>국내 시장지수</td>\n",
       "    </tr>\n",
       "    <tr>\n",
       "      <th>2</th>\n",
       "      <td>TIGER 200</td>\n",
       "      <td>국내 시장지수</td>\n",
       "    </tr>\n",
       "    <tr>\n",
       "      <th>12</th>\n",
       "      <td>KODEX 200TR</td>\n",
       "      <td>국내 시장지수</td>\n",
       "    </tr>\n",
       "    <tr>\n",
       "      <th>16</th>\n",
       "      <td>KBSTAR 200</td>\n",
       "      <td>국내 시장지수</td>\n",
       "    </tr>\n",
       "    <tr>\n",
       "      <th>17</th>\n",
       "      <td>KODEX MSCI Korea TR</td>\n",
       "      <td>국내 시장지수</td>\n",
       "    </tr>\n",
       "    <tr>\n",
       "      <th>...</th>\n",
       "      <td>...</td>\n",
       "      <td>...</td>\n",
       "    </tr>\n",
       "    <tr>\n",
       "      <th>419</th>\n",
       "      <td>HK 베스트일레븐액티브</td>\n",
       "      <td>국내 시장지수</td>\n",
       "    </tr>\n",
       "    <tr>\n",
       "      <th>432</th>\n",
       "      <td>HK 하이볼액티브</td>\n",
       "      <td>국내 시장지수</td>\n",
       "    </tr>\n",
       "    <tr>\n",
       "      <th>469</th>\n",
       "      <td>ARIRANG 200동일가중</td>\n",
       "      <td>국내 시장지수</td>\n",
       "    </tr>\n",
       "    <tr>\n",
       "      <th>479</th>\n",
       "      <td>KBSTAR 코스닥150선물인버스</td>\n",
       "      <td>국내 시장지수</td>\n",
       "    </tr>\n",
       "    <tr>\n",
       "      <th>505</th>\n",
       "      <td>ARIRANG 코스닥150</td>\n",
       "      <td>국내 시장지수</td>\n",
       "    </tr>\n",
       "  </tbody>\n",
       "</table>\n",
       "<p>67 rows × 2 columns</p>\n",
       "</div>"
      ],
      "text/plain": [
       "                itemname etfTabName\n",
       "0              KODEX 200    국내 시장지수\n",
       "2              TIGER 200    국내 시장지수\n",
       "12           KODEX 200TR    국내 시장지수\n",
       "16            KBSTAR 200    국내 시장지수\n",
       "17   KODEX MSCI Korea TR    국내 시장지수\n",
       "..                   ...        ...\n",
       "419         HK 베스트일레븐액티브    국내 시장지수\n",
       "432            HK 하이볼액티브    국내 시장지수\n",
       "469      ARIRANG 200동일가중    국내 시장지수\n",
       "479   KBSTAR 코스닥150선물인버스    국내 시장지수\n",
       "505       ARIRANG 코스닥150    국내 시장지수\n",
       "\n",
       "[67 rows x 2 columns]"
      ]
     },
     "execution_count": 41,
     "metadata": {},
     "output_type": "execute_result"
    }
   ],
   "source": [
    "df.loc[df['etfTabCode'] == 1, ['itemname', 'etfTabName']]"
   ]
  },
  {
   "cell_type": "code",
   "execution_count": 37,
   "metadata": {},
   "outputs": [
    {
     "data": {
      "text/plain": [
       "0       국내 시장지수\n",
       "1         해외 주식\n",
       "2       국내 시장지수\n",
       "3            채권\n",
       "4         국내 파생\n",
       "         ...   \n",
       "507          채권\n",
       "508         원자재\n",
       "509    국내 업종/테마\n",
       "510    국내 업종/테마\n",
       "511    국내 업종/테마\n",
       "Name: etfTabCode, Length: 512, dtype: object"
      ]
     },
     "execution_count": 37,
     "metadata": {},
     "output_type": "execute_result"
    }
   ],
   "source": [
    "df[\"etfTabCode\"].apply(find_etf_tab_name)"
   ]
  },
  {
   "cell_type": "code",
   "execution_count": null,
   "metadata": {
    "id": "ked6jOdgBYkq"
   },
   "outputs": [],
   "source": [
    "# etfTabName column이 제대로 만들어졌는지 확인합니다.\n"
   ]
  },
  {
   "cell_type": "markdown",
   "metadata": {},
   "source": [
    "* map : \n",
    "    * Series에서만 사용가능\n",
    "    * [Essential basic functionality — pandas documentation](https://pandas.pydata.org/docs/user_guide/basics.html?#applying-elementwise-functions)\n",
    "\n",
    "* apply :\n",
    "    * Series와 DataFrame 둘 다 사용가능\n",
    "    * [Essential basic functionality — pandas documentation](https://pandas.pydata.org/docs/user_guide/basics.html?#row-or-column-wise-function-application)"
   ]
  },
  {
   "cell_type": "markdown",
   "metadata": {},
   "source": [
    "### 컬럼명 변경하기"
   ]
  },
  {
   "cell_type": "code",
   "execution_count": null,
   "metadata": {},
   "outputs": [],
   "source": [
    "\"\"\"종목명\n",
    "현재가\n",
    "전일비\n",
    "등락률\n",
    "NAV\n",
    "3개월수익률\n",
    "거래량\n",
    "거래대금(백만)\n",
    "시가총액(억)\n",
    "\"\"\""
   ]
  },
  {
   "cell_type": "code",
   "execution_count": 44,
   "metadata": {
    "id": "hmI_1aqBBYkq"
   },
   "outputs": [
    {
     "data": {
      "text/plain": [
       "['itemcode',\n",
       " 'etfTabCode',\n",
       " 'itemname',\n",
       " 'nowVal',\n",
       " 'risefall',\n",
       " 'changeVal',\n",
       " 'changeRate',\n",
       " 'nav',\n",
       " 'threeMonthEarnRate',\n",
       " 'quant',\n",
       " 'amonut',\n",
       " 'marketSum',\n",
       " 'etfTabName']"
      ]
     },
     "execution_count": 44,
     "metadata": {},
     "output_type": "execute_result"
    }
   ],
   "source": [
    "# DataFrame df의 column 이름을 list로 만들어서 cols 라는 변수에 담습니다.\n",
    "# cols\n",
    "cols = df.columns.tolist()\n",
    "cols"
   ]
  },
  {
   "cell_type": "code",
   "execution_count": 45,
   "metadata": {
    "id": "1TF4kMp1BYkq"
   },
   "outputs": [
    {
     "data": {
      "text/plain": [
       "'종목코드\\n탭코드\\n종목명\\n현재가\\n등락구분\\n전일비\\n등락률\\n순자산가치(NAV)\\n3개월수익률\\n거래량\\n거래대금(백만)\\n시가총액(억)\\n유형'"
      ]
     },
     "execution_count": 45,
     "metadata": {},
     "output_type": "execute_result"
    }
   ],
   "source": [
    "# 영어로 되어있는 column 이름을 한글로 바꾸기 위한 list를 만듭니다.\n",
    "# 빠진 column이 있는지 리스트와 길이를 확인합니다.\n",
    "col_name = \"\"\"종목코드\n",
    "탭코드\n",
    "종목명\n",
    "현재가\n",
    "등락구분\n",
    "전일비\n",
    "등락률\n",
    "순자산가치(NAV)\n",
    "3개월수익률\n",
    "거래량\n",
    "거래대금(백만)\n",
    "시가총액(억)\n",
    "유형\"\"\"\n",
    "col_name"
   ]
  },
  {
   "cell_type": "code",
   "execution_count": 47,
   "metadata": {
    "scrolled": true
   },
   "outputs": [
    {
     "data": {
      "text/plain": [
       "['종목코드',\n",
       " '탭코드',\n",
       " '종목명',\n",
       " '현재가',\n",
       " '등락구분',\n",
       " '전일비',\n",
       " '등락률',\n",
       " '순자산가치(NAV)',\n",
       " '3개월수익률',\n",
       " '거래량',\n",
       " '거래대금(백만)',\n",
       " '시가총액(억)',\n",
       " '유형']"
      ]
     },
     "execution_count": 47,
     "metadata": {},
     "output_type": "execute_result"
    }
   ],
   "source": [
    "col_name = col_name.split('\\n')\n",
    "col_name"
   ]
  },
  {
   "cell_type": "code",
   "execution_count": 48,
   "metadata": {
    "id": "3N22l3f6BYkr"
   },
   "outputs": [
    {
     "data": {
      "text/plain": [
       "{'itemcode': '종목코드',\n",
       " 'etfTabCode': '탭코드',\n",
       " 'itemname': '종목명',\n",
       " 'nowVal': '현재가',\n",
       " 'risefall': '등락구분',\n",
       " 'changeVal': '전일비',\n",
       " 'changeRate': '등락률',\n",
       " 'nav': '순자산가치(NAV)',\n",
       " 'threeMonthEarnRate': '3개월수익률',\n",
       " 'quant': '거래량',\n",
       " 'amonut': '거래대금(백만)',\n",
       " 'marketSum': '시가총액(억)',\n",
       " 'etfTabName': '유형'}"
      ]
     },
     "execution_count": 48,
     "metadata": {},
     "output_type": "execute_result"
    }
   ],
   "source": [
    "# 컬럼 영문명과 한글명을 딕셔너리 형태로 만들어 비교해 볼 수도 있습니다.\n",
    "# 하지만 좀 더 간단하게 여기에서는 리스트 값을 그대로 컬럼에 넣어주는 방법을 사용할거에요.\n",
    "# 딕셔너리로 키-값 쌍을 만들어 컬럼의 키와 값이 잘 매치되었는지 확인해 봅니다.\n",
    "dict(zip(cols, col_name))"
   ]
  },
  {
   "cell_type": "code",
   "execution_count": 50,
   "metadata": {
    "id": "ieQ9S3L-BYkr"
   },
   "outputs": [
    {
     "data": {
      "text/html": [
       "<div>\n",
       "<style scoped>\n",
       "    .dataframe tbody tr th:only-of-type {\n",
       "        vertical-align: middle;\n",
       "    }\n",
       "\n",
       "    .dataframe tbody tr th {\n",
       "        vertical-align: top;\n",
       "    }\n",
       "\n",
       "    .dataframe thead th {\n",
       "        text-align: right;\n",
       "    }\n",
       "</style>\n",
       "<table border=\"1\" class=\"dataframe\">\n",
       "  <thead>\n",
       "    <tr style=\"text-align: right;\">\n",
       "      <th></th>\n",
       "      <th>종목코드</th>\n",
       "      <th>탭코드</th>\n",
       "      <th>종목명</th>\n",
       "      <th>현재가</th>\n",
       "      <th>등락구분</th>\n",
       "      <th>전일비</th>\n",
       "      <th>등락률</th>\n",
       "      <th>순자산가치(NAV)</th>\n",
       "      <th>3개월수익률</th>\n",
       "      <th>거래량</th>\n",
       "      <th>거래대금(백만)</th>\n",
       "      <th>시가총액(억)</th>\n",
       "      <th>유형</th>\n",
       "    </tr>\n",
       "  </thead>\n",
       "  <tbody>\n",
       "    <tr>\n",
       "      <th>0</th>\n",
       "      <td>069500</td>\n",
       "      <td>1</td>\n",
       "      <td>KODEX 200</td>\n",
       "      <td>39420</td>\n",
       "      <td>2</td>\n",
       "      <td>400</td>\n",
       "      <td>1.03</td>\n",
       "      <td>39436.0</td>\n",
       "      <td>-9.6680</td>\n",
       "      <td>2570170</td>\n",
       "      <td>101274</td>\n",
       "      <td>48270</td>\n",
       "      <td>국내 시장지수</td>\n",
       "    </tr>\n",
       "    <tr>\n",
       "      <th>1</th>\n",
       "      <td>371460</td>\n",
       "      <td>4</td>\n",
       "      <td>TIGER 차이나전기차SOLACTIVE</td>\n",
       "      <td>17850</td>\n",
       "      <td>2</td>\n",
       "      <td>440</td>\n",
       "      <td>2.53</td>\n",
       "      <td>NaN</td>\n",
       "      <td>7.2716</td>\n",
       "      <td>8417623</td>\n",
       "      <td>148973</td>\n",
       "      <td>22977</td>\n",
       "      <td>해외 주식</td>\n",
       "    </tr>\n",
       "    <tr>\n",
       "      <th>2</th>\n",
       "      <td>102110</td>\n",
       "      <td>1</td>\n",
       "      <td>TIGER 200</td>\n",
       "      <td>39460</td>\n",
       "      <td>2</td>\n",
       "      <td>415</td>\n",
       "      <td>1.06</td>\n",
       "      <td>39472.0</td>\n",
       "      <td>-9.6074</td>\n",
       "      <td>430561</td>\n",
       "      <td>16985</td>\n",
       "      <td>21466</td>\n",
       "      <td>국내 시장지수</td>\n",
       "    </tr>\n",
       "    <tr>\n",
       "      <th>3</th>\n",
       "      <td>153130</td>\n",
       "      <td>6</td>\n",
       "      <td>KODEX 단기채권</td>\n",
       "      <td>102965</td>\n",
       "      <td>5</td>\n",
       "      <td>-5</td>\n",
       "      <td>0.00</td>\n",
       "      <td>102964.0</td>\n",
       "      <td>0.1215</td>\n",
       "      <td>10120</td>\n",
       "      <td>1041</td>\n",
       "      <td>21277</td>\n",
       "      <td>채권</td>\n",
       "    </tr>\n",
       "    <tr>\n",
       "      <th>4</th>\n",
       "      <td>252670</td>\n",
       "      <td>3</td>\n",
       "      <td>KODEX 200선물인버스2X</td>\n",
       "      <td>2245</td>\n",
       "      <td>5</td>\n",
       "      <td>-50</td>\n",
       "      <td>-2.18</td>\n",
       "      <td>2239.0</td>\n",
       "      <td>20.0534</td>\n",
       "      <td>187196187</td>\n",
       "      <td>421296</td>\n",
       "      <td>19906</td>\n",
       "      <td>국내 파생</td>\n",
       "    </tr>\n",
       "    <tr>\n",
       "      <th>...</th>\n",
       "      <td>...</td>\n",
       "      <td>...</td>\n",
       "      <td>...</td>\n",
       "      <td>...</td>\n",
       "      <td>...</td>\n",
       "      <td>...</td>\n",
       "      <td>...</td>\n",
       "      <td>...</td>\n",
       "      <td>...</td>\n",
       "      <td>...</td>\n",
       "      <td>...</td>\n",
       "      <td>...</td>\n",
       "      <td>...</td>\n",
       "    </tr>\n",
       "    <tr>\n",
       "      <th>507</th>\n",
       "      <td>397420</td>\n",
       "      <td>6</td>\n",
       "      <td>KBSTAR 국채선물5년추종</td>\n",
       "      <td>49040</td>\n",
       "      <td>2</td>\n",
       "      <td>10</td>\n",
       "      <td>0.02</td>\n",
       "      <td>49018.0</td>\n",
       "      <td>NaN</td>\n",
       "      <td>3</td>\n",
       "      <td>0</td>\n",
       "      <td>24</td>\n",
       "      <td>채권</td>\n",
       "    </tr>\n",
       "    <tr>\n",
       "      <th>508</th>\n",
       "      <td>334700</td>\n",
       "      <td>5</td>\n",
       "      <td>KBSTAR 팔라듐선물인버스(H)</td>\n",
       "      <td>5270</td>\n",
       "      <td>2</td>\n",
       "      <td>65</td>\n",
       "      <td>1.25</td>\n",
       "      <td>NaN</td>\n",
       "      <td>23.5638</td>\n",
       "      <td>3110</td>\n",
       "      <td>16</td>\n",
       "      <td>21</td>\n",
       "      <td>원자재</td>\n",
       "    </tr>\n",
       "    <tr>\n",
       "      <th>509</th>\n",
       "      <td>287330</td>\n",
       "      <td>2</td>\n",
       "      <td>KBSTAR 200생활소비재</td>\n",
       "      <td>8285</td>\n",
       "      <td>2</td>\n",
       "      <td>75</td>\n",
       "      <td>0.91</td>\n",
       "      <td>8298.0</td>\n",
       "      <td>-10.0923</td>\n",
       "      <td>2404</td>\n",
       "      <td>19</td>\n",
       "      <td>20</td>\n",
       "      <td>국내 업종/테마</td>\n",
       "    </tr>\n",
       "    <tr>\n",
       "      <th>510</th>\n",
       "      <td>287310</td>\n",
       "      <td>2</td>\n",
       "      <td>KBSTAR 200경기소비재</td>\n",
       "      <td>11425</td>\n",
       "      <td>2</td>\n",
       "      <td>25</td>\n",
       "      <td>0.22</td>\n",
       "      <td>11416.0</td>\n",
       "      <td>-6.0058</td>\n",
       "      <td>217</td>\n",
       "      <td>2</td>\n",
       "      <td>16</td>\n",
       "      <td>국내 업종/테마</td>\n",
       "    </tr>\n",
       "    <tr>\n",
       "      <th>511</th>\n",
       "      <td>287320</td>\n",
       "      <td>2</td>\n",
       "      <td>KBSTAR 200산업재</td>\n",
       "      <td>11900</td>\n",
       "      <td>2</td>\n",
       "      <td>115</td>\n",
       "      <td>0.98</td>\n",
       "      <td>11893.0</td>\n",
       "      <td>-10.8615</td>\n",
       "      <td>56</td>\n",
       "      <td>0</td>\n",
       "      <td>14</td>\n",
       "      <td>국내 업종/테마</td>\n",
       "    </tr>\n",
       "  </tbody>\n",
       "</table>\n",
       "<p>512 rows × 13 columns</p>\n",
       "</div>"
      ],
      "text/plain": [
       "       종목코드  탭코드                    종목명     현재가  등락구분  전일비   등락률  순자산가치(NAV)  \\\n",
       "0    069500    1              KODEX 200   39420     2  400  1.03     39436.0   \n",
       "1    371460    4  TIGER 차이나전기차SOLACTIVE   17850     2  440  2.53         NaN   \n",
       "2    102110    1              TIGER 200   39460     2  415  1.06     39472.0   \n",
       "3    153130    6             KODEX 단기채권  102965     5   -5  0.00    102964.0   \n",
       "4    252670    3       KODEX 200선물인버스2X    2245     5  -50 -2.18      2239.0   \n",
       "..      ...  ...                    ...     ...   ...  ...   ...         ...   \n",
       "507  397420    6        KBSTAR 국채선물5년추종   49040     2   10  0.02     49018.0   \n",
       "508  334700    5     KBSTAR 팔라듐선물인버스(H)    5270     2   65  1.25         NaN   \n",
       "509  287330    2        KBSTAR 200생활소비재    8285     2   75  0.91      8298.0   \n",
       "510  287310    2        KBSTAR 200경기소비재   11425     2   25  0.22     11416.0   \n",
       "511  287320    2          KBSTAR 200산업재   11900     2  115  0.98     11893.0   \n",
       "\n",
       "      3개월수익률        거래량  거래대금(백만)  시가총액(억)        유형  \n",
       "0    -9.6680    2570170    101274    48270   국내 시장지수  \n",
       "1     7.2716    8417623    148973    22977     해외 주식  \n",
       "2    -9.6074     430561     16985    21466   국내 시장지수  \n",
       "3     0.1215      10120      1041    21277        채권  \n",
       "4    20.0534  187196187    421296    19906     국내 파생  \n",
       "..       ...        ...       ...      ...       ...  \n",
       "507      NaN          3         0       24        채권  \n",
       "508  23.5638       3110        16       21       원자재  \n",
       "509 -10.0923       2404        19       20  국내 업종/테마  \n",
       "510  -6.0058        217         2       16  국내 업종/테마  \n",
       "511 -10.8615         56         0       14  국내 업종/테마  \n",
       "\n",
       "[512 rows x 13 columns]"
      ]
     },
     "execution_count": 50,
     "metadata": {},
     "output_type": "execute_result"
    }
   ],
   "source": [
    "# 기존의 데이터프레임 컬럼명에 위에서 만든 컬럼명을 할당연산자로 대입해 주면 컬럼명이 변경됩니다.\n",
    "# 컬럼 변경 후 한글로 컬럼명이 잘 변경되었는지 확인해 봅니다.\n",
    "df.columns = col_name\n",
    "df"
   ]
  },
  {
   "cell_type": "markdown",
   "metadata": {},
   "source": [
    "### 파생변수 만들기\n",
    "* 브랜드, 인버스, 레버리지, 환헤지H 변수 만들기\n",
    "* [Working with text data — pandas documentation](https://pandas.pydata.org/docs/user_guide/text.html)"
   ]
  },
  {
   "cell_type": "code",
   "execution_count": 52,
   "metadata": {
    "id": "F-8P7v-3BYkr",
    "scrolled": true
   },
   "outputs": [
    {
     "data": {
      "text/plain": [
       "0                  KODEX 200\n",
       "1      TIGER 차이나전기차SOLACTIVE\n",
       "2                  TIGER 200\n",
       "3                 KODEX 단기채권\n",
       "4           KODEX 200선물인버스2X\n",
       "               ...          \n",
       "507          KBSTAR 국채선물5년추종\n",
       "508       KBSTAR 팔라듐선물인버스(H)\n",
       "509          KBSTAR 200생활소비재\n",
       "510          KBSTAR 200경기소비재\n",
       "511            KBSTAR 200산업재\n",
       "Name: 종목명, Length: 512, dtype: object"
      ]
     },
     "execution_count": 52,
     "metadata": {},
     "output_type": "execute_result"
    }
   ],
   "source": [
    "# 종목명 column의 데이터를 space(\" \")를 이용해 나누고 제일 앞부분[0]을 새로운 column을 만들어 저장하고 확인합니다.\n",
    "# expand = True 옵션을 사용하면 문자열을 나눈 값을 인덱스 순서대로 가져와서 사용할 수 있습니다.\n",
    "# df[\"브랜드\"]\n",
    "df[\"종목명\"]"
   ]
  },
  {
   "cell_type": "code",
   "execution_count": 58,
   "metadata": {},
   "outputs": [],
   "source": [
    "df[\"브랜드\"] = df[\"종목명\"].str.split(\" \", expand=True)[0]"
   ]
  },
  {
   "cell_type": "code",
   "execution_count": 59,
   "metadata": {
    "scrolled": false
   },
   "outputs": [
    {
     "data": {
      "text/html": [
       "<div>\n",
       "<style scoped>\n",
       "    .dataframe tbody tr th:only-of-type {\n",
       "        vertical-align: middle;\n",
       "    }\n",
       "\n",
       "    .dataframe tbody tr th {\n",
       "        vertical-align: top;\n",
       "    }\n",
       "\n",
       "    .dataframe thead th {\n",
       "        text-align: right;\n",
       "    }\n",
       "</style>\n",
       "<table border=\"1\" class=\"dataframe\">\n",
       "  <thead>\n",
       "    <tr style=\"text-align: right;\">\n",
       "      <th></th>\n",
       "      <th>종목명</th>\n",
       "      <th>브랜드</th>\n",
       "    </tr>\n",
       "  </thead>\n",
       "  <tbody>\n",
       "    <tr>\n",
       "      <th>0</th>\n",
       "      <td>KODEX 200</td>\n",
       "      <td>KODEX</td>\n",
       "    </tr>\n",
       "    <tr>\n",
       "      <th>1</th>\n",
       "      <td>TIGER 차이나전기차SOLACTIVE</td>\n",
       "      <td>TIGER</td>\n",
       "    </tr>\n",
       "    <tr>\n",
       "      <th>2</th>\n",
       "      <td>TIGER 200</td>\n",
       "      <td>TIGER</td>\n",
       "    </tr>\n",
       "    <tr>\n",
       "      <th>3</th>\n",
       "      <td>KODEX 단기채권</td>\n",
       "      <td>KODEX</td>\n",
       "    </tr>\n",
       "    <tr>\n",
       "      <th>4</th>\n",
       "      <td>KODEX 200선물인버스2X</td>\n",
       "      <td>KODEX</td>\n",
       "    </tr>\n",
       "  </tbody>\n",
       "</table>\n",
       "</div>"
      ],
      "text/plain": [
       "                     종목명    브랜드\n",
       "0              KODEX 200  KODEX\n",
       "1  TIGER 차이나전기차SOLACTIVE  TIGER\n",
       "2              TIGER 200  TIGER\n",
       "3             KODEX 단기채권  KODEX\n",
       "4       KODEX 200선물인버스2X  KODEX"
      ]
     },
     "execution_count": 59,
     "metadata": {},
     "output_type": "execute_result"
    }
   ],
   "source": [
    "df[[\"종목명\", \"브랜드\"]].head()"
   ]
  },
  {
   "cell_type": "code",
   "execution_count": 60,
   "metadata": {},
   "outputs": [
    {
     "data": {
      "text/plain": [
       "array(['KODEX', 'TIGER', 'KBSTAR', 'ARIRANG', 'KINDEX', 'HANARO', 'KOSEF',\n",
       "       'SOL', 'TIMEFOLIO', '네비게이터', '파워', 'KTOP', 'FOCUS', '마이다스', 'TREX',\n",
       "       '마이티', 'HK'], dtype=object)"
      ]
     },
     "execution_count": 60,
     "metadata": {},
     "output_type": "execute_result"
    }
   ],
   "source": [
    "df[\"브랜드\"].unique()"
   ]
  },
  {
   "cell_type": "markdown",
   "metadata": {
    "id": "d0YQdJoABYkr"
   },
   "source": [
    "* 종목명 column의 내용중이 '인버스'라는 단어가 있으면 새로운 column '인버스'에 True 값이 들어가게 됩니다.\n",
    "* contains는 bool type을 반환하기 때문에 새로운 column에는 True나 False가 들어가게 됩니다.\n",
    "* 마찬가지로 '레버리지'와 '환헤지H'에 대해서도 동일하게 만들어 줍니다. \n",
    "* H라는 단어가 종목명에 들어갈 수도 있기 때문에 H뒤에 닫는 소괄호\")\"까지 확인합니다.\n",
    "* 소괄호는 정규표현식에서 의미를 가지는 문자이기 때문에 문자 그대로 읽어오기 위해서는 \"\\\"로 전처리가 필요합니다."
   ]
  },
  {
   "cell_type": "code",
   "execution_count": 61,
   "metadata": {
    "id": "d0YQdJoABYkr"
   },
   "outputs": [],
   "source": [
    "# 인버스ETF는 지수가 하락하면 오히려 수익률이 오르도록 설계된 상품입니다.\n",
    "# df[\"인버스\"]\n",
    "df[\"인버스\"] = df[\"종목명\"].str.contains(\"인버스\")"
   ]
  },
  {
   "cell_type": "markdown",
   "metadata": {},
   "source": [
    "전체 종목 중 인버스가 들어가는 종목은 42개가 분포함을 확인할 수 있다."
   ]
  },
  {
   "cell_type": "code",
   "execution_count": 62,
   "metadata": {
    "scrolled": true
   },
   "outputs": [
    {
     "data": {
      "text/plain": [
       "False    470\n",
       "True      42\n",
       "Name: 인버스, dtype: int64"
      ]
     },
     "execution_count": 62,
     "metadata": {},
     "output_type": "execute_result"
    }
   ],
   "source": [
    "df[\"인버스\"].value_counts()"
   ]
  },
  {
   "cell_type": "markdown",
   "metadata": {},
   "source": [
    "레버리지(leverage)는 타인의 자본을 지렛대처럼 이용하여 자기 자본의 이익률을 높이는 것이다. 고정비용이 있을 때 매출액의 변화가 기업의 손익에 미치는 영향을 분석하는 데에 쓰인다. 이는 고정영업비용과 고정재무비용의 부담정도에 따라 기업에게 귀속되는 최종적인 주당이익에 어떤 영향을 미치는지 분석할 수 있게 한다.\n",
    "\n",
    "* 출처 : [레버리지 - 위키백과, 우리 모두의 백과사전](https://ko.wikipedia.org/wiki/%EB%A0%88%EB%B2%84%EB%A6%AC%EC%A7%80)"
   ]
  },
  {
   "cell_type": "code",
   "execution_count": 65,
   "metadata": {
    "id": "d0YQdJoABYkr"
   },
   "outputs": [
    {
     "data": {
      "text/plain": [
       "False    0.935547\n",
       "True     0.064453\n",
       "Name: 레버리지, dtype: float64"
      ]
     },
     "execution_count": 65,
     "metadata": {},
     "output_type": "execute_result"
    }
   ],
   "source": [
    "# df[\"레버리지\"]\n",
    "df[\"레버리지\"] = df[\"종목명\"].str.contains(\"레버리지\")\n",
    "df[\"레버리지\"].value_counts(normalize=True)  # 비율 계산"
   ]
  },
  {
   "cell_type": "markdown",
   "metadata": {},
   "source": [
    "헤지(hedge)란 환율, 금리 또는 다른 자산에 대한 투자등을 통해 보유하고 있는 위험자산의 가격변동을 제거하는 것을 말한다. 즉, 확정되지 않은 자산을 확정된 자산으로 편입하는 과정이라 할 수 있으며, 주로 선물 옵션과 같은 파생상품을 이용한다. 이를 통해 체계적 위험을 제거할 수 있다.\n",
    "\n",
    "부(wealth)를 결정하는 변수값의 변화와 관계없이 항상 일정한 부를 유지하게 하는 헤지를 완전헤지라고 하고, 그렇지 못한 것을 불완전헤지라고 한다.\n",
    "* 출처 : [헤지 - 위키백과, 우리 모두의 백과사전](https://ko.wikipedia.org/wiki/%ED%97%A4%EC%A7%80)"
   ]
  },
  {
   "cell_type": "code",
   "execution_count": 68,
   "metadata": {
    "id": "d0YQdJoABYkr"
   },
   "outputs": [
    {
     "data": {
      "text/plain": [
       "False    471\n",
       "True      41\n",
       "Name: 환헤지H, dtype: int64"
      ]
     },
     "execution_count": 68,
     "metadata": {},
     "output_type": "execute_result"
    }
   ],
   "source": [
    "# (H)의 의미는 환율변동 위험을 막기 위해 Hedge를 한다는 뜻입니다.\n",
    "# df[\"환헤지H\"]\n",
    "df[\"환헤지H\"] = df[\"종목명\"].str.endswith(\"(H)\")\n",
    "df[\"환헤지H\"].value_counts()"
   ]
  },
  {
   "cell_type": "markdown",
   "metadata": {},
   "source": [
    "### 전처리가 잘 되었는지 확인하기"
   ]
  },
  {
   "cell_type": "code",
   "execution_count": 70,
   "metadata": {},
   "outputs": [
    {
     "data": {
      "text/plain": [
       "2    399\n",
       "5     95\n",
       "3     18\n",
       "Name: 등락구분, dtype: int64"
      ]
     },
     "execution_count": 70,
     "metadata": {},
     "output_type": "execute_result"
    }
   ],
   "source": [
    "# 등락구분에 있는 값의 빈도수를 세어봅니다.\n",
    "df[\"등락구분\"].value_counts()"
   ]
  },
  {
   "cell_type": "code",
   "execution_count": 71,
   "metadata": {
    "id": "MCaYBOfYBYkr"
   },
   "outputs": [
    {
     "name": "stdout",
     "output_type": "stream",
     "text": [
      "<class 'pandas.core.frame.DataFrame'>\n",
      "RangeIndex: 512 entries, 0 to 511\n",
      "Data columns (total 17 columns):\n",
      " #   Column      Non-Null Count  Dtype  \n",
      "---  ------      --------------  -----  \n",
      " 0   종목코드        512 non-null    object \n",
      " 1   탭코드         512 non-null    int64  \n",
      " 2   종목명         512 non-null    object \n",
      " 3   현재가         512 non-null    int64  \n",
      " 4   등락구분        512 non-null    int64  \n",
      " 5   전일비         512 non-null    int64  \n",
      " 6   등락률         512 non-null    float64\n",
      " 7   순자산가치(NAV)  363 non-null    float64\n",
      " 8   3개월수익률      482 non-null    float64\n",
      " 9   거래량         512 non-null    int64  \n",
      " 10  거래대금(백만)    512 non-null    int64  \n",
      " 11  시가총액(억)     512 non-null    int64  \n",
      " 12  유형          512 non-null    object \n",
      " 13  브랜드         512 non-null    object \n",
      " 14  인버스         512 non-null    bool   \n",
      " 15  레버리지        512 non-null    bool   \n",
      " 16  환헤지H        512 non-null    bool   \n",
      "dtypes: bool(3), float64(3), int64(7), object(4)\n",
      "memory usage: 57.6+ KB\n"
     ]
    }
   ],
   "source": [
    "# 전체적으로 데이터 전처리가 끝났다면 info를 통해 데이터 요약정보 보기\n",
    "df.info()"
   ]
  },
  {
   "cell_type": "markdown",
   "metadata": {},
   "source": [
    "## 파일로 저장하기"
   ]
  },
  {
   "cell_type": "code",
   "execution_count": 74,
   "metadata": {},
   "outputs": [
    {
     "data": {
      "text/plain": [
       "'eft_20211017.csv'"
      ]
     },
     "execution_count": 74,
     "metadata": {},
     "output_type": "execute_result"
    }
   ],
   "source": [
    "# 기존에 불러왔던 파일명에서 _raw를 제거하고 새로운 파일명으로 저장합니다.\n",
    "save_file_name = file_name.replace(\"_raw\", \"\")\n",
    "save_file_name"
   ]
  },
  {
   "cell_type": "code",
   "execution_count": 75,
   "metadata": {
    "id": "WTKYc0eBBYkt"
   },
   "outputs": [],
   "source": [
    "# pandas의 to_csv로 파일을 저장합니다.\n",
    "# index=False로 인덱스값은 저장하지 않습니다.\n",
    "df.to_csv(save_file_name, index=False)"
   ]
  },
  {
   "cell_type": "code",
   "execution_count": 76,
   "metadata": {},
   "outputs": [
    {
     "data": {
      "text/html": [
       "<div>\n",
       "<style scoped>\n",
       "    .dataframe tbody tr th:only-of-type {\n",
       "        vertical-align: middle;\n",
       "    }\n",
       "\n",
       "    .dataframe tbody tr th {\n",
       "        vertical-align: top;\n",
       "    }\n",
       "\n",
       "    .dataframe thead th {\n",
       "        text-align: right;\n",
       "    }\n",
       "</style>\n",
       "<table border=\"1\" class=\"dataframe\">\n",
       "  <thead>\n",
       "    <tr style=\"text-align: right;\">\n",
       "      <th></th>\n",
       "      <th>종목코드</th>\n",
       "      <th>탭코드</th>\n",
       "      <th>종목명</th>\n",
       "      <th>현재가</th>\n",
       "      <th>등락구분</th>\n",
       "      <th>전일비</th>\n",
       "      <th>등락률</th>\n",
       "      <th>순자산가치(NAV)</th>\n",
       "      <th>3개월수익률</th>\n",
       "      <th>거래량</th>\n",
       "      <th>거래대금(백만)</th>\n",
       "      <th>시가총액(억)</th>\n",
       "      <th>유형</th>\n",
       "      <th>브랜드</th>\n",
       "      <th>인버스</th>\n",
       "      <th>레버리지</th>\n",
       "      <th>환헤지H</th>\n",
       "    </tr>\n",
       "  </thead>\n",
       "  <tbody>\n",
       "    <tr>\n",
       "      <th>0</th>\n",
       "      <td>069500</td>\n",
       "      <td>1</td>\n",
       "      <td>KODEX 200</td>\n",
       "      <td>39420</td>\n",
       "      <td>2</td>\n",
       "      <td>400</td>\n",
       "      <td>1.03</td>\n",
       "      <td>39436.0</td>\n",
       "      <td>-9.6680</td>\n",
       "      <td>2570170</td>\n",
       "      <td>101274</td>\n",
       "      <td>48270</td>\n",
       "      <td>국내 시장지수</td>\n",
       "      <td>KODEX</td>\n",
       "      <td>False</td>\n",
       "      <td>False</td>\n",
       "      <td>False</td>\n",
       "    </tr>\n",
       "    <tr>\n",
       "      <th>1</th>\n",
       "      <td>371460</td>\n",
       "      <td>4</td>\n",
       "      <td>TIGER 차이나전기차SOLACTIVE</td>\n",
       "      <td>17850</td>\n",
       "      <td>2</td>\n",
       "      <td>440</td>\n",
       "      <td>2.53</td>\n",
       "      <td>NaN</td>\n",
       "      <td>7.2716</td>\n",
       "      <td>8417623</td>\n",
       "      <td>148973</td>\n",
       "      <td>22977</td>\n",
       "      <td>해외 주식</td>\n",
       "      <td>TIGER</td>\n",
       "      <td>False</td>\n",
       "      <td>False</td>\n",
       "      <td>False</td>\n",
       "    </tr>\n",
       "    <tr>\n",
       "      <th>2</th>\n",
       "      <td>102110</td>\n",
       "      <td>1</td>\n",
       "      <td>TIGER 200</td>\n",
       "      <td>39460</td>\n",
       "      <td>2</td>\n",
       "      <td>415</td>\n",
       "      <td>1.06</td>\n",
       "      <td>39472.0</td>\n",
       "      <td>-9.6074</td>\n",
       "      <td>430561</td>\n",
       "      <td>16985</td>\n",
       "      <td>21466</td>\n",
       "      <td>국내 시장지수</td>\n",
       "      <td>TIGER</td>\n",
       "      <td>False</td>\n",
       "      <td>False</td>\n",
       "      <td>False</td>\n",
       "    </tr>\n",
       "    <tr>\n",
       "      <th>3</th>\n",
       "      <td>153130</td>\n",
       "      <td>6</td>\n",
       "      <td>KODEX 단기채권</td>\n",
       "      <td>102965</td>\n",
       "      <td>5</td>\n",
       "      <td>-5</td>\n",
       "      <td>0.00</td>\n",
       "      <td>102964.0</td>\n",
       "      <td>0.1215</td>\n",
       "      <td>10120</td>\n",
       "      <td>1041</td>\n",
       "      <td>21277</td>\n",
       "      <td>채권</td>\n",
       "      <td>KODEX</td>\n",
       "      <td>False</td>\n",
       "      <td>False</td>\n",
       "      <td>False</td>\n",
       "    </tr>\n",
       "    <tr>\n",
       "      <th>4</th>\n",
       "      <td>252670</td>\n",
       "      <td>3</td>\n",
       "      <td>KODEX 200선물인버스2X</td>\n",
       "      <td>2245</td>\n",
       "      <td>5</td>\n",
       "      <td>-50</td>\n",
       "      <td>-2.18</td>\n",
       "      <td>2239.0</td>\n",
       "      <td>20.0534</td>\n",
       "      <td>187196187</td>\n",
       "      <td>421296</td>\n",
       "      <td>19906</td>\n",
       "      <td>국내 파생</td>\n",
       "      <td>KODEX</td>\n",
       "      <td>True</td>\n",
       "      <td>False</td>\n",
       "      <td>False</td>\n",
       "    </tr>\n",
       "    <tr>\n",
       "      <th>...</th>\n",
       "      <td>...</td>\n",
       "      <td>...</td>\n",
       "      <td>...</td>\n",
       "      <td>...</td>\n",
       "      <td>...</td>\n",
       "      <td>...</td>\n",
       "      <td>...</td>\n",
       "      <td>...</td>\n",
       "      <td>...</td>\n",
       "      <td>...</td>\n",
       "      <td>...</td>\n",
       "      <td>...</td>\n",
       "      <td>...</td>\n",
       "      <td>...</td>\n",
       "      <td>...</td>\n",
       "      <td>...</td>\n",
       "      <td>...</td>\n",
       "    </tr>\n",
       "    <tr>\n",
       "      <th>507</th>\n",
       "      <td>397420</td>\n",
       "      <td>6</td>\n",
       "      <td>KBSTAR 국채선물5년추종</td>\n",
       "      <td>49040</td>\n",
       "      <td>2</td>\n",
       "      <td>10</td>\n",
       "      <td>0.02</td>\n",
       "      <td>49018.0</td>\n",
       "      <td>NaN</td>\n",
       "      <td>3</td>\n",
       "      <td>0</td>\n",
       "      <td>24</td>\n",
       "      <td>채권</td>\n",
       "      <td>KBSTAR</td>\n",
       "      <td>False</td>\n",
       "      <td>False</td>\n",
       "      <td>False</td>\n",
       "    </tr>\n",
       "    <tr>\n",
       "      <th>508</th>\n",
       "      <td>334700</td>\n",
       "      <td>5</td>\n",
       "      <td>KBSTAR 팔라듐선물인버스(H)</td>\n",
       "      <td>5270</td>\n",
       "      <td>2</td>\n",
       "      <td>65</td>\n",
       "      <td>1.25</td>\n",
       "      <td>NaN</td>\n",
       "      <td>23.5638</td>\n",
       "      <td>3110</td>\n",
       "      <td>16</td>\n",
       "      <td>21</td>\n",
       "      <td>원자재</td>\n",
       "      <td>KBSTAR</td>\n",
       "      <td>True</td>\n",
       "      <td>False</td>\n",
       "      <td>True</td>\n",
       "    </tr>\n",
       "    <tr>\n",
       "      <th>509</th>\n",
       "      <td>287330</td>\n",
       "      <td>2</td>\n",
       "      <td>KBSTAR 200생활소비재</td>\n",
       "      <td>8285</td>\n",
       "      <td>2</td>\n",
       "      <td>75</td>\n",
       "      <td>0.91</td>\n",
       "      <td>8298.0</td>\n",
       "      <td>-10.0923</td>\n",
       "      <td>2404</td>\n",
       "      <td>19</td>\n",
       "      <td>20</td>\n",
       "      <td>국내 업종/테마</td>\n",
       "      <td>KBSTAR</td>\n",
       "      <td>False</td>\n",
       "      <td>False</td>\n",
       "      <td>False</td>\n",
       "    </tr>\n",
       "    <tr>\n",
       "      <th>510</th>\n",
       "      <td>287310</td>\n",
       "      <td>2</td>\n",
       "      <td>KBSTAR 200경기소비재</td>\n",
       "      <td>11425</td>\n",
       "      <td>2</td>\n",
       "      <td>25</td>\n",
       "      <td>0.22</td>\n",
       "      <td>11416.0</td>\n",
       "      <td>-6.0058</td>\n",
       "      <td>217</td>\n",
       "      <td>2</td>\n",
       "      <td>16</td>\n",
       "      <td>국내 업종/테마</td>\n",
       "      <td>KBSTAR</td>\n",
       "      <td>False</td>\n",
       "      <td>False</td>\n",
       "      <td>False</td>\n",
       "    </tr>\n",
       "    <tr>\n",
       "      <th>511</th>\n",
       "      <td>287320</td>\n",
       "      <td>2</td>\n",
       "      <td>KBSTAR 200산업재</td>\n",
       "      <td>11900</td>\n",
       "      <td>2</td>\n",
       "      <td>115</td>\n",
       "      <td>0.98</td>\n",
       "      <td>11893.0</td>\n",
       "      <td>-10.8615</td>\n",
       "      <td>56</td>\n",
       "      <td>0</td>\n",
       "      <td>14</td>\n",
       "      <td>국내 업종/테마</td>\n",
       "      <td>KBSTAR</td>\n",
       "      <td>False</td>\n",
       "      <td>False</td>\n",
       "      <td>False</td>\n",
       "    </tr>\n",
       "  </tbody>\n",
       "</table>\n",
       "<p>512 rows × 17 columns</p>\n",
       "</div>"
      ],
      "text/plain": [
       "       종목코드  탭코드                    종목명     현재가  등락구분  전일비   등락률  순자산가치(NAV)  \\\n",
       "0    069500    1              KODEX 200   39420     2  400  1.03     39436.0   \n",
       "1    371460    4  TIGER 차이나전기차SOLACTIVE   17850     2  440  2.53         NaN   \n",
       "2    102110    1              TIGER 200   39460     2  415  1.06     39472.0   \n",
       "3    153130    6             KODEX 단기채권  102965     5   -5  0.00    102964.0   \n",
       "4    252670    3       KODEX 200선물인버스2X    2245     5  -50 -2.18      2239.0   \n",
       "..      ...  ...                    ...     ...   ...  ...   ...         ...   \n",
       "507  397420    6        KBSTAR 국채선물5년추종   49040     2   10  0.02     49018.0   \n",
       "508  334700    5     KBSTAR 팔라듐선물인버스(H)    5270     2   65  1.25         NaN   \n",
       "509  287330    2        KBSTAR 200생활소비재    8285     2   75  0.91      8298.0   \n",
       "510  287310    2        KBSTAR 200경기소비재   11425     2   25  0.22     11416.0   \n",
       "511  287320    2          KBSTAR 200산업재   11900     2  115  0.98     11893.0   \n",
       "\n",
       "      3개월수익률        거래량  거래대금(백만)  시가총액(억)        유형     브랜드    인버스   레버리지  \\\n",
       "0    -9.6680    2570170    101274    48270   국내 시장지수   KODEX  False  False   \n",
       "1     7.2716    8417623    148973    22977     해외 주식   TIGER  False  False   \n",
       "2    -9.6074     430561     16985    21466   국내 시장지수   TIGER  False  False   \n",
       "3     0.1215      10120      1041    21277        채권   KODEX  False  False   \n",
       "4    20.0534  187196187    421296    19906     국내 파생   KODEX   True  False   \n",
       "..       ...        ...       ...      ...       ...     ...    ...    ...   \n",
       "507      NaN          3         0       24        채권  KBSTAR  False  False   \n",
       "508  23.5638       3110        16       21       원자재  KBSTAR   True  False   \n",
       "509 -10.0923       2404        19       20  국내 업종/테마  KBSTAR  False  False   \n",
       "510  -6.0058        217         2       16  국내 업종/테마  KBSTAR  False  False   \n",
       "511 -10.8615         56         0       14  국내 업종/테마  KBSTAR  False  False   \n",
       "\n",
       "      환헤지H  \n",
       "0    False  \n",
       "1    False  \n",
       "2    False  \n",
       "3    False  \n",
       "4    False  \n",
       "..     ...  \n",
       "507  False  \n",
       "508   True  \n",
       "509  False  \n",
       "510  False  \n",
       "511  False  \n",
       "\n",
       "[512 rows x 17 columns]"
      ]
     },
     "execution_count": 76,
     "metadata": {},
     "output_type": "execute_result"
    }
   ],
   "source": [
    "# 저장한 파일을 읽어와서 제대로 저장되었는지 확인합니다.\n",
    "# 또, 종목코드는 그냥 읽어오면 숫자 맨 앞의 0이 생략될 수 있으니 object 타입으로 불러옵니다.\n",
    "pd.read_csv(save_file_name, dtype={\"종목코드\":np.object})"
   ]
  }
 ],
 "metadata": {
  "colab": {
   "collapsed_sections": [],
   "name": "8. naver-etf-eda.ipynb",
   "provenance": [],
   "toc_visible": true
  },
  "kernelspec": {
   "display_name": "Python 3",
   "language": "python",
   "name": "python3"
  },
  "language_info": {
   "codemirror_mode": {
    "name": "ipython",
    "version": 3
   },
   "file_extension": ".py",
   "mimetype": "text/x-python",
   "name": "python",
   "nbconvert_exporter": "python",
   "pygments_lexer": "ipython3",
   "version": "3.8.8"
  },
  "toc": {
   "base_numbering": 1,
   "nav_menu": {},
   "number_sections": true,
   "sideBar": true,
   "skip_h1_title": false,
   "title_cell": "Table of Contents",
   "title_sidebar": "Contents",
   "toc_cell": false,
   "toc_position": {
    "height": "calc(100% - 180px)",
    "left": "10px",
    "top": "150px",
    "width": "202px"
   },
   "toc_section_display": true,
   "toc_window_display": false
  },
  "varInspector": {
   "cols": {
    "lenName": 16,
    "lenType": 16,
    "lenVar": 40
   },
   "kernels_config": {
    "python": {
     "delete_cmd_postfix": "",
     "delete_cmd_prefix": "del ",
     "library": "var_list.py",
     "varRefreshCmd": "print(var_dic_list())"
    },
    "r": {
     "delete_cmd_postfix": ") ",
     "delete_cmd_prefix": "rm(",
     "library": "var_list.r",
     "varRefreshCmd": "cat(var_dic_list()) "
    }
   },
   "types_to_exclude": [
    "module",
    "function",
    "builtin_function_or_method",
    "instance",
    "_Feature"
   ],
   "window_display": false
  }
 },
 "nbformat": 4,
 "nbformat_minor": 1
}
